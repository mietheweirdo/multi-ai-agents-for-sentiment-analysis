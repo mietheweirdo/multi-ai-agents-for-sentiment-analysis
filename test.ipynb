{
 "cells": [
  {
   "cell_type": "markdown",
   "metadata": {},
   "source": [
    "## Fix for ScraperAgent Not Defined\n",
    "\n",
    "If you get `NameError: name 'ScraperAgent' is not defined`, make sure to run the cell below **before** running the main test cell. This will define a minimal ScraperAgent in the notebook scope."
   ]
  },
  {
   "cell_type": "code",
   "execution_count": 1,
   "metadata": {},
   "outputs": [],
   "source": [
    "# Minimal ScraperAgent for notebook testing\n",
    "class ScraperAgent:\n",
    "    def scrape(self, data):\n",
    "        return data"
   ]
  },
  {
   "cell_type": "markdown",
   "metadata": {},
   "source": [
    "## Update Python Libraries (If Needed)\n",
    "\n",
    "If you're experiencing issues with newer API keys or models, you might need to update the dependencies."
   ]
  },
  {
   "cell_type": "code",
   "execution_count": 2,
   "metadata": {},
   "outputs": [],
   "source": [
    "# Uncomment and run this cell if you need to update libraries\n",
    "# !pip install -U openai langchain langchain-openai"
   ]
  },
  {
   "cell_type": "markdown",
   "metadata": {},
   "source": [
    "## Load Configuration\n",
    "\n",
    "Important: Run this cell first to load the configuration file."
   ]
  },
  {
   "cell_type": "code",
   "execution_count": 3,
   "metadata": {},
   "outputs": [
    {
     "name": "stdout",
     "output_type": "stream",
     "text": [
      "Configuration loaded successfully.\n",
      "Model: o3-mini\n",
      "API key length: 164\n",
      "API key starts with: sk-proj-PG...\n"
     ]
    }
   ],
   "source": [
    "import json\n",
    "\n",
    "# Load configuration from config.json\n",
    "try:\n",
    "    with open('config.json', 'r') as f:\n",
    "        config = json.load(f)\n",
    "    print(f\"Configuration loaded successfully.\")\n",
    "    print(f\"Model: {config.get('model_name', 'Not specified')}\")\n",
    "    api_key = config.get('api_key', '')\n",
    "    print(f\"API key length: {len(api_key)}\")\n",
    "    if len(api_key) > 20:\n",
    "        print(f\"API key starts with: {api_key[:10]}...\")\n",
    "    else:\n",
    "        print(\"Warning: API key seems too short or empty.\")\n",
    "except Exception as e:\n",
    "    print(f\"Error loading configuration: {str(e)}\")\n",
    "    # Create a default config to avoid errors\n",
    "    config = {\"model_name\": \"o3-mini\", \"api_key\": \"\"}"
   ]
  },
  {
   "cell_type": "markdown",
   "metadata": {},
   "source": [
    "## Run the Multi-Agent Structure Test\n",
    "\n",
    "This test uses real sample review data from sample_reviews.py."
   ]
  },
  {
   "cell_type": "code",
   "execution_count": 4,
   "metadata": {},
   "outputs": [
    {
     "name": "stdout",
     "output_type": "stream",
     "text": [
      "CoordinatorAgent correctly accepts config parameter\n",
      "Loaded 5 Shopee reviews and 5 YouTube reviews\n",
      "Scraped 10 reviews.\n",
      "Preprocessed 10 reviews.\n",
      "\n",
      "Example 1:\n",
      "- Text: extremely satisfied with these earbuds! the sound ...\n",
      "- Platform: Shopee\n",
      "- Product: Wireless Earbuds\n",
      "\n",
      "Example 2:\n",
      "- Text: disappointed with these earbuds. they disconnect f...\n",
      "- Platform: Shopee\n",
      "- Product: Wireless Earbuds\n",
      "\n",
      "Example 3:\n",
      "- Text: average product. sound quality is okay but not as ...\n",
      "- Platform: Shopee\n",
      "- Product: Wireless Earbuds\n",
      "{'agent': 'AnalyzerAgent', 'sentiment': 'negative', 'intensity': 'moderate', 'key_phrases': ['extremely', 'satisfied', 'these'], 'text': 'extremely satisfied with these earbuds! the sound quality is amazing and battery life is impressive. worth every penny.'}\n",
      "{'agent': 'AnalyzerAgent', 'sentiment': 'positive', 'intensity': 'moderate', 'key_phrases': ['disappointed', 'these', 'earbuds.'], 'text': 'disappointed with these earbuds. they disconnect frequently and the battery drains too quickly. would not recommend.'}\n",
      "{'agent': 'AnalyzerAgent', 'sentiment': 'neutral', 'intensity': 'strong', 'key_phrases': ['average', 'product.', 'sound'], 'text': 'average product. sound quality is okay but not as good as advertised. the fit is comfortable though.'}\n",
      "\n",
      "Analyzing reviews for product ID: S001 (Wireless Earbuds)\n",
      "Found 6 reviews for this product\n",
      "Using a subset of 3 reviews for testing\n",
      "\n",
      "Analyzing reviews for product ID: S001 (Wireless Earbuds)\n",
      "Found 6 reviews for this product\n",
      "Using a subset of 3 reviews for testing\n",
      "Coordinator summary: {'S001': {'product_id': 'S001', 'product_name': 'Wireless Earbuds', 'overall_sentiment': 'mixed', 'sentiment_distribution': {'positive': 60, 'neutral': 20, 'negative': 20}, 'key_strengths': ['sound quality', 'battery life'], 'key_weaknesses': ['comfort'], 'recurring_themes': ['audio', 'battery', 'design'], 'business_recommendations': ['improve comfort for extended use'], 'confidence': 8}}\n",
      "\n",
      "Report:\n",
      "product_id: S001\n",
      "product_name: Wireless Earbuds\n",
      "overall_sentiment: mixed\n",
      "sentiment_distribution: {'positive': 60, 'neutral': 20, 'negative': 20}\n",
      "key_strengths: ['sound quality', 'battery life']\n",
      "key_weaknesses: ['comfort']\n",
      "recurring_themes: ['audio', 'battery', 'design']\n",
      "business_recommendations: ['improve comfort for extended use']\n",
      "confidence: 8\n",
      "\n",
      "GPT Summary: Summary generated by o3-mini (stub): The product received mixed reviews with positives for sound quality and battery life, but negatives for comfort during prolonged use.\n",
      "Coordinator summary: {'S001': {'product_id': 'S001', 'product_name': 'Wireless Earbuds', 'overall_sentiment': 'mixed', 'sentiment_distribution': {'positive': 60, 'neutral': 20, 'negative': 20}, 'key_strengths': ['sound quality', 'battery life'], 'key_weaknesses': ['comfort'], 'recurring_themes': ['audio', 'battery', 'design'], 'business_recommendations': ['improve comfort for extended use'], 'confidence': 8}}\n",
      "\n",
      "Report:\n",
      "product_id: S001\n",
      "product_name: Wireless Earbuds\n",
      "overall_sentiment: mixed\n",
      "sentiment_distribution: {'positive': 60, 'neutral': 20, 'negative': 20}\n",
      "key_strengths: ['sound quality', 'battery life']\n",
      "key_weaknesses: ['comfort']\n",
      "recurring_themes: ['audio', 'battery', 'design']\n",
      "business_recommendations: ['improve comfort for extended use']\n",
      "confidence: 8\n",
      "\n",
      "GPT Summary: Summary generated by o3-mini (stub): The product received mixed reviews with positives for sound quality and battery life, but negatives for comfort during prolonged use.\n"
     ]
    }
   ],
   "source": [
    "import os\n",
    "# from agents.scraper import ScraperAgent  # Now defined above\n",
    "from agents.preprocessing import PreprocessingAgent\n",
    "from agents.analyzer import AnalyzerAgent\n",
    "from agents.coordinator import CoordinatorAgent\n",
    "from agents.report import ReportAgent\n",
    "from agents.gpt_handler import GPTHandler\n",
    "from data.sample_reviews import SHOPEE_REVIEWS, YOUTUBE_REVIEWS\n",
    "\n",
    "# Set OpenAI API key environment variable (needed for langchain)\n",
    "os.environ['OPENAI_API_KEY'] = config.get('api_key', '')\n",
    "\n",
    "# Verify CoordinatorAgent accepts config parameter\n",
    "import inspect\n",
    "coord_params = inspect.signature(CoordinatorAgent.__init__).parameters\n",
    "if 'config' not in coord_params:\n",
    "    print(\"WARNING: CoordinatorAgent doesn't have config parameter. Module reload needed.\")\n",
    "    print(\"Available parameters:\", list(coord_params.keys()))\n",
    "else:\n",
    "    print(\"CoordinatorAgent correctly accepts config parameter\")\n",
    "\n",
    "# Use actual sample review data instead of hardcoded test data\n",
    "test_reviews = SHOPEE_REVIEWS + YOUTUBE_REVIEWS\n",
    "print(f\"Loaded {len(SHOPEE_REVIEWS)} Shopee reviews and {len(YOUTUBE_REVIEWS)} YouTube reviews\")\n",
    "\n",
    "# Step 1: Scrape (pass-through for sample data)\n",
    "scraper = ScraperAgent()\n",
    "scraped = scraper.scrape(test_reviews)\n",
    "print(f\"Scraped {len(scraped)} reviews.\")\n",
    "\n",
    "# Step 2: Preprocess\n",
    "preprocessor = PreprocessingAgent()\n",
    "preprocessed = preprocessor.preprocess(scraped)\n",
    "print(f\"Preprocessed {len(preprocessed)} reviews.\")\n",
    "\n",
    "# Display a few examples of preprocessed reviews\n",
    "for i, review in enumerate(preprocessed[:3]):\n",
    "    print(f\"\\nExample {i+1}:\")\n",
    "    if 'review_text' in review:\n",
    "        print(f\"- Text: {review['review_text'][:50]}...\")\n",
    "    elif 'comment' in review:\n",
    "        print(f\"- Comment: {review['comment'][:50]}...\")\n",
    "    print(f\"- Platform: {review.get('platform', 'Unknown')}\")\n",
    "    print(f\"- Product: {review.get('product_name', 'Unknown')}\")\n",
    "\n",
    "# Step 3: Analyze (single agent test)\n",
    "analyzer = AnalyzerAgent(config=config)\n",
    "# Only analyze a few examples to avoid long execution times\n",
    "analysis_sample = preprocessed[:3]\n",
    "analysis_results = [analyzer.analyze(r) for r in analysis_sample]\n",
    "for res in analysis_results:\n",
    "    print(res)\n",
    "\n",
    "try:\n",
    "    # Step 4: Coordinator (should use config)\n",
    "    coordinator = CoordinatorAgent(config=config)\n",
    "    product_id = \"S001\"  # Wireless Earbuds\n",
    "    print(f\"\\nAnalyzing reviews for product ID: {product_id} (Wireless Earbuds)\")\n",
    "    product_reviews = [r for r in preprocessed if r[\"product_id\"] == product_id]\n",
    "    print(f\"Found {len(product_reviews)} reviews for this product\")\n",
    "    \n",
    "    # Use only a small subset to speed up testing\n",
    "    test_subset = product_reviews[:3]\n",
    "    print(f\"Using a subset of {len(test_subset)} reviews for testing\")\n",
    "    \n",
    "    summary = coordinator.analyze_product_reviews(test_subset)\n",
    "    print(\"Coordinator summary:\", summary)\n",
    "    \n",
    "    # Step 5: Report Agent\n",
    "    report_agent = ReportAgent()\n",
    "    report = report_agent.compile(summary)\n",
    "    print(\"\\nReport:\")\n",
    "    for key, value in report['products'][0].items():\n",
    "        if isinstance(value, list) and len(value) > 3:\n",
    "            print(f\"{key}: {value[:3]}...\")\n",
    "        else:\n",
    "            print(f\"{key}: {value}\")\n",
    "    \n",
    "    # Step 6: GPT Handler\n",
    "    gpt_handler = GPTHandler(config=config)\n",
    "    gpt_summary = gpt_handler.generate_summary(report)\n",
    "    print(\"\\nGPT Summary:\", gpt_summary)\n",
    "    \n",
    "except Exception as e:\n",
    "    print(f\"Error during execution: {str(e)}\")\n",
    "    print(\"\\nIf this is an authentication error, please check that:\")\n",
    "    print(\"1. Your API key in config.json is correct and active\")\n",
    "    print(\"2. You have billing set up in your OpenAI account\")\n",
    "    print(\"3. The model name in your config.json is available to your account\")\n",
    "    \n",
    "    import traceback\n",
    "    traceback.print_exc()"
   ]
  }
 ],
 "metadata": {
  "kernelspec": {
   "display_name": "Python 3",
   "language": "python",
   "name": "python3"
  },
  "language_info": {
   "codemirror_mode": {
    "name": "ipython",
    "version": 3
   },
   "file_extension": ".py",
   "mimetype": "text/x-python",
   "name": "python",
   "nbconvert_exporter": "python",
   "pygments_lexer": "ipython3",
   "version": "3.11.8"
  }
 },
 "nbformat": 4,
 "nbformat_minor": 4
}
